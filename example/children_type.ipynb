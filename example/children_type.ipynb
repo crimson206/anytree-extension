{
 "cells": [
  {
   "cell_type": "code",
   "execution_count": 10,
   "metadata": {},
   "outputs": [],
   "source": [
    "from crimson.anytree_extension.unique_node import UniqueNode\n",
    "from crimson.anytree_extension.patch.nodemixin import NodeMixinTyped\n",
    "from typing import *\n"
   ]
  },
  {
   "cell_type": "markdown",
   "metadata": {},
   "source": [
    "## Basic"
   ]
  },
  {
   "cell_type": "code",
   "execution_count": null,
   "metadata": {},
   "outputs": [],
   "source": [
    "root = UniqueNode(name=\"root\")\n",
    "item1 = UniqueNode(name=\"item1\", parent=root)\n",
    "item2 = UniqueNode(name=\"item2\", parent=root)"
   ]
  },
  {
   "cell_type": "code",
   "execution_count": 13,
   "metadata": {},
   "outputs": [],
   "source": [
    "root.children[0].activate()"
   ]
  },
  {
   "cell_type": "code",
   "execution_count": 14,
   "metadata": {},
   "outputs": [
    {
     "data": {
      "text/plain": [
       "'root'"
      ]
     },
     "execution_count": 14,
     "metadata": {},
     "output_type": "execute_result"
    }
   ],
   "source": [
    "root.name_unique"
   ]
  },
  {
   "cell_type": "code",
   "execution_count": 15,
   "metadata": {},
   "outputs": [
    {
     "data": {
      "text/plain": [
       "('item1_0', 'root/item1_0')"
      ]
     },
     "execution_count": 15,
     "metadata": {},
     "output_type": "execute_result"
    }
   ],
   "source": [
    "root.children[0].name_indexed, root.children[0].name_unique"
   ]
  },
  {
   "cell_type": "code",
   "execution_count": 16,
   "metadata": {},
   "outputs": [
    {
     "data": {
      "text/plain": [
       "('item2_0', 'root/item2_0')"
      ]
     },
     "execution_count": 16,
     "metadata": {},
     "output_type": "execute_result"
    }
   ],
   "source": [
    "root.children[1].name_indexed, root.children[1].name_unique"
   ]
  },
  {
   "cell_type": "markdown",
   "metadata": {},
   "source": [
    "## Inherit"
   ]
  },
  {
   "cell_type": "code",
   "execution_count": 20,
   "metadata": {},
   "outputs": [
    {
     "data": {
      "text/plain": [
       "(UniqueNode(name='root'), UniqueNode(name='item1'), UniqueNode(name='item2'))"
      ]
     },
     "execution_count": 20,
     "metadata": {},
     "output_type": "execute_result"
    }
   ],
   "source": [
    "class MyNode(UniqueNode):\n",
    "    pass\n",
    "\n",
    "root = UniqueNode(name=\"root\")\n",
    "item1 = UniqueNode(name=\"item1\", parent=root)\n",
    "item2 = UniqueNode(name=\"item2\", parent=root)\n",
    "deeper_item1 = MyNode(name=\"item1\", parent=item1)\n",
    "root, item1, item2"
   ]
  },
  {
   "cell_type": "code",
   "execution_count": 21,
   "metadata": {},
   "outputs": [
    {
     "data": {
      "text/plain": [
       "(None, None, None, None)"
      ]
     },
     "execution_count": 21,
     "metadata": {},
     "output_type": "execute_result"
    }
   ],
   "source": [
    "root.name_indexed, item1.name_indexed, item2.name_indexed, deeper_item1.name_indexed"
   ]
  },
  {
   "cell_type": "code",
   "execution_count": 22,
   "metadata": {},
   "outputs": [
    {
     "data": {
      "text/plain": [
       "(None, None, None, None)"
      ]
     },
     "execution_count": 22,
     "metadata": {},
     "output_type": "execute_result"
    }
   ],
   "source": [
    "root.name_unique, item1.name_unique, item2.name_unique, deeper_item1.name_unique"
   ]
  },
  {
   "cell_type": "code",
   "execution_count": 23,
   "metadata": {},
   "outputs": [],
   "source": [
    "root.activate()"
   ]
  },
  {
   "cell_type": "code",
   "execution_count": 24,
   "metadata": {},
   "outputs": [
    {
     "data": {
      "text/plain": [
       "('root', 'item1_0', 'item2_0', 'item1_0')"
      ]
     },
     "execution_count": 24,
     "metadata": {},
     "output_type": "execute_result"
    }
   ],
   "source": [
    "root.name_indexed, item1.name_indexed, item2.name_indexed, deeper_item1.name_indexed"
   ]
  },
  {
   "cell_type": "code",
   "execution_count": 25,
   "metadata": {},
   "outputs": [
    {
     "data": {
      "text/plain": [
       "('root', 'root/item1_0', 'root/item2_0', 'root/item1_0/item1_0')"
      ]
     },
     "execution_count": 25,
     "metadata": {},
     "output_type": "execute_result"
    }
   ],
   "source": [
    "root.name_unique, item1.name_unique, item2.name_unique, deeper_item1.name_unique"
   ]
  },
  {
   "cell_type": "markdown",
   "metadata": {},
   "source": [
    "## Custom Name\n"
   ]
  },
  {
   "cell_type": "code",
   "execution_count": 27,
   "metadata": {},
   "outputs": [
    {
     "data": {
      "text/plain": [
       "(MyNode(name='root'),\n",
       " MyNode(name='duplicated_name'),\n",
       " MyNode(name='duplicated_name'),\n",
       " MyNode(name='unique_among_siblings'))"
      ]
     },
     "execution_count": 27,
     "metadata": {},
     "output_type": "execute_result"
    }
   ],
   "source": [
    "class MyNode(UniqueNode):\n",
    "    pass\n",
    "\n",
    "root = MyNode(name='root')\n",
    "item1 = MyNode(name='duplicated_name', parent=root)\n",
    "item2 = MyNode(name='duplicated_name', parent=root)\n",
    "item3 = MyNode(name='unique_among_siblings', parent=root)\n",
    "root, item1, item2, item3"
   ]
  },
  {
   "cell_type": "code",
   "execution_count": 28,
   "metadata": {},
   "outputs": [
    {
     "data": {
      "text/plain": [
       "('root', 'duplicated_name_0', 'duplicated_name_1', 'unique_among_siblings_0')"
      ]
     },
     "execution_count": 28,
     "metadata": {},
     "output_type": "execute_result"
    }
   ],
   "source": [
    "root.activate()\n",
    "\n",
    "root.name_indexed, item1.name_indexed, item2.name_indexed, item3.name_indexed"
   ]
  }
 ],
 "metadata": {
  "kernelspec": {
   "display_name": "anytree-extension",
   "language": "python",
   "name": "python3"
  },
  "language_info": {
   "codemirror_mode": {
    "name": "ipython",
    "version": 3
   },
   "file_extension": ".py",
   "mimetype": "text/x-python",
   "name": "python",
   "nbconvert_exporter": "python",
   "pygments_lexer": "ipython3",
   "version": "3.11.11"
  }
 },
 "nbformat": 4,
 "nbformat_minor": 2
}
