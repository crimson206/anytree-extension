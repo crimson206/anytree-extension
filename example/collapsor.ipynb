{
 "cells": [
  {
   "cell_type": "code",
   "execution_count": 1,
   "metadata": {},
   "outputs": [],
   "source": [
    "from anytree import Node\n",
    "from typing import *\n"
   ]
  },
  {
   "cell_type": "code",
   "execution_count": 2,
   "metadata": {},
   "outputs": [],
   "source": [
    "from crimson.anytree_extension.collapsor import collapse"
   ]
  },
  {
   "cell_type": "code",
   "execution_count": 3,
   "metadata": {},
   "outputs": [],
   "source": [
    "data = {'name': 'crimson',\n",
    " 'dependencies': [{'name': 'crimson-filter-beta', 'dependencies': []},\n",
    "  {'name': 'crimson-file-loader',\n",
    "   'dependencies': [{'name': 'pydantic',\n",
    "     'dependencies': [{'name': 'annotated-types',\n",
    "       'dependencies': [{'name': 'typing-extensions', 'dependencies': []}]},\n",
    "      {'name': 'pydantic-core',\n",
    "       'dependencies': [{'name': 'typing-extensions', 'dependencies': []}]},\n",
    "      {'name': 'typing-extensions', 'dependencies': []},\n",
    "      {'name': 'email-validator', 'dependencies': []},\n",
    "      {'name': 'tzdata;', 'dependencies': []}]},\n",
    "    {'name': 'crimson-intelli-type',\n",
    "     'dependencies': [{'name': 'pydantic',\n",
    "       'dependencies': [{'name': 'annotated-types', 'dependencies': []},\n",
    "        {'name': 'pydantic-core', 'dependencies': []},\n",
    "        {'name': 'typing-extensions', 'dependencies': []},\n",
    "        {'name': 'email-validator', 'dependencies': []},\n",
    "        {'name': 'tzdata;', 'dependencies': []}]}]}]},\n",
    "  {'name': 'crimson-intelli-type',\n",
    "   'dependencies': [{'name': 'pydantic',\n",
    "     'dependencies': [{'name': 'annotated-types',\n",
    "       'dependencies': [{'name': 'typing-extensions', 'dependencies': []}]},\n",
    "      {'name': 'pydantic-core',\n",
    "       'dependencies': [{'name': 'typing-extensions', 'dependencies': []}]},\n",
    "      {'name': 'typing-extensions', 'dependencies': []},\n",
    "      {'name': 'email-validator', 'dependencies': []},\n",
    "      {'name': 'tzdata;', 'dependencies': []}]}]},\n",
    "  {'name': 'crimson-folder-system',\n",
    "   'dependencies': [{'name': 'crimson-filter-beta', 'dependencies': []},\n",
    "    {'name': 'pydantic',\n",
    "     'dependencies': [{'name': 'annotated-types',\n",
    "       'dependencies': [{'name': 'typing-extensions', 'dependencies': []}]},\n",
    "      {'name': 'pydantic-core',\n",
    "       'dependencies': [{'name': 'typing-extensions', 'dependencies': []}]},\n",
    "      {'name': 'typing-extensions', 'dependencies': []},\n",
    "      {'name': 'email-validator', 'dependencies': []},\n",
    "      {'name': 'tzdata;', 'dependencies': []}]}]},\n",
    "  {'name': 'crimson-anytree-extension',\n",
    "   'dependencies': [{'name': 'anytree',\n",
    "     'dependencies': [{'name': 'six', 'dependencies': []}]}]}]}"
   ]
  },
  {
   "cell_type": "code",
   "execution_count": 4,
   "metadata": {},
   "outputs": [],
   "source": [
    "from crimson.anytree_extension.conterver import DictImporter, DictExporter\n",
    "from crimson.anytree_extension.unique_node import UniqueNode\n",
    "\n",
    "root: UniqueNode = DictImporter(\n",
    "    chilren_name=\"dependencies\", nodecls=UniqueNode\n",
    ").import_(data)"
   ]
  },
  {
   "cell_type": "code",
   "execution_count": 5,
   "metadata": {},
   "outputs": [
    {
     "name": "stdout",
     "output_type": "stream",
     "text": [
      "UniqueNode(name='crimson')\n",
      "├── UniqueNode(name='crimson-filter-beta')\n",
      "├── UniqueNode(name='crimson-file-loader')\n",
      "│   ├── UniqueNode(name='pydantic')\n",
      "│   │   ├── UniqueNode(name='annotated-types')\n",
      "│   │   │   └── UniqueNode(name='typing-extensions')\n",
      "│   │   ├── UniqueNode(name='pydantic-core')\n",
      "│   │   │   └── UniqueNode(name='typing-extensions')\n",
      "│   │   ├── UniqueNode(name='typing-extensions')\n",
      "│   │   ├── UniqueNode(name='email-validator')\n",
      "│   │   └── UniqueNode(name='tzdata;')\n",
      "│   └── UniqueNode(name='crimson-intelli-type')\n",
      "│       └── UniqueNode(name='pydantic')\n",
      "│           ├── UniqueNode(name='annotated-types')\n",
      "│           ├── UniqueNode(name='pydantic-core')\n",
      "│           ├── UniqueNode(name='typing-extensions')\n",
      "│           ├── UniqueNode(name='email-validator')\n",
      "│           └── UniqueNode(name='tzdata;')\n",
      "├── UniqueNode(name='crimson-intelli-type')\n",
      "│   └── UniqueNode(name='pydantic')\n",
      "│       ├── UniqueNode(name='annotated-types')\n",
      "│       │   └── UniqueNode(name='typing-extensions')\n",
      "│       ├── UniqueNode(name='pydantic-core')\n",
      "│       │   └── UniqueNode(name='typing-extensions')\n",
      "│       ├── UniqueNode(name='typing-extensions')\n",
      "│       ├── UniqueNode(name='email-validator')\n",
      "│       └── UniqueNode(name='tzdata;')\n",
      "├── UniqueNode(name='crimson-folder-system')\n",
      "│   ├── UniqueNode(name='crimson-filter-beta')\n",
      "│   └── UniqueNode(name='pydantic')\n",
      "│       ├── UniqueNode(name='annotated-types')\n",
      "│       │   └── UniqueNode(name='typing-extensions')\n",
      "│       ├── UniqueNode(name='pydantic-core')\n",
      "│       │   └── UniqueNode(name='typing-extensions')\n",
      "│       ├── UniqueNode(name='typing-extensions')\n",
      "│       ├── UniqueNode(name='email-validator')\n",
      "│       └── UniqueNode(name='tzdata;')\n",
      "└── UniqueNode(name='crimson-anytree-extension')\n",
      "    └── UniqueNode(name='anytree')\n",
      "        └── UniqueNode(name='six')\n"
     ]
    }
   ],
   "source": [
    "from anytree import RenderTree\n",
    "\n",
    "print(RenderTree(root))"
   ]
  },
  {
   "cell_type": "code",
   "execution_count": 6,
   "metadata": {},
   "outputs": [],
   "source": [
    "root.activate()"
   ]
  },
  {
   "cell_type": "code",
   "execution_count": 7,
   "metadata": {},
   "outputs": [],
   "source": [
    "def my_filter(node: Node):\n",
    "\treturn node.name.startswith(\"crimson\")"
   ]
  },
  {
   "cell_type": "code",
   "execution_count": 8,
   "metadata": {},
   "outputs": [
    {
     "data": {
      "text/plain": [
       "'crimson'"
      ]
     },
     "execution_count": 8,
     "metadata": {},
     "output_type": "execute_result"
    }
   ],
   "source": [
    "root.name_unique\n"
   ]
  },
  {
   "cell_type": "code",
   "execution_count": 9,
   "metadata": {},
   "outputs": [],
   "source": [
    "new_root = collapse(root, unique_key=\"name_unique\", filter=my_filter, safeguard=True)"
   ]
  },
  {
   "cell_type": "code",
   "execution_count": 10,
   "metadata": {},
   "outputs": [
    {
     "name": "stdout",
     "output_type": "stream",
     "text": [
      "Node('/crimson', name_indexed='crimson')\n",
      "├── Node('/crimson/crimson-filter-beta', name_indexed='crimson-filter-beta_0')\n",
      "│   └── Node('/crimson/crimson-filter-beta/crimson-filter-beta', name_indexed='crimson-filter-beta_0')\n",
      "├── Node('/crimson/crimson-file-loader', name_indexed='crimson-file-loader_0')\n",
      "├── Node('/crimson/crimson-intelli-type', name_indexed='crimson-intelli-type_0')\n",
      "│   └── Node('/crimson/crimson-intelli-type/crimson-intelli-type', name_indexed='crimson-intelli-type_0')\n",
      "├── Node('/crimson/crimson-folder-system', name_indexed='crimson-folder-system_0')\n",
      "└── Node('/crimson/crimson-anytree-extension', name_indexed='crimson-anytree-extension_0')\n"
     ]
    }
   ],
   "source": [
    "print(RenderTree(new_root))"
   ]
  },
  {
   "cell_type": "code",
   "execution_count": 11,
   "metadata": {},
   "outputs": [
    {
     "data": {
      "text/plain": [
       "{'name': 'crimson',\n",
       " 'dependencies': [{'name': 'crimson-filter-beta',\n",
       "   'dependencies': [{'name': 'crimson-filter-beta'}]},\n",
       "  {'name': 'crimson-file-loader'},\n",
       "  {'name': 'crimson-intelli-type',\n",
       "   'dependencies': [{'name': 'crimson-intelli-type'}]},\n",
       "  {'name': 'crimson-folder-system'},\n",
       "  {'name': 'crimson-anytree-extension'}]}"
      ]
     },
     "execution_count": 11,
     "metadata": {},
     "output_type": "execute_result"
    }
   ],
   "source": [
    "DictExporter(\n",
    "    chilren_name=\"dependencies\", attrs=['name']\n",
    ").export(new_root)"
   ]
  }
 ],
 "metadata": {
  "kernelspec": {
   "display_name": "anytree-extension",
   "language": "python",
   "name": "python3"
  },
  "language_info": {
   "codemirror_mode": {
    "name": "ipython",
    "version": 3
   },
   "file_extension": ".py",
   "mimetype": "text/x-python",
   "name": "python",
   "nbconvert_exporter": "python",
   "pygments_lexer": "ipython3",
   "version": "3.11.11"
  }
 },
 "nbformat": 4,
 "nbformat_minor": 2
}
