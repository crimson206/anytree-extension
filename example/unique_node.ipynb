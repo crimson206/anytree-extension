{
 "cells": [
  {
   "cell_type": "code",
   "execution_count": 1,
   "metadata": {},
   "outputs": [],
   "source": [
    "from crimson.anytree_extension.patch.nodemixin import NodeMixinTyped\n",
    "from crimson.anytree_extension.unique_node import UniqueNode, UniqueNodeAddon\n",
    "from anytree import NodeMixin\n",
    "from typing import *\n",
    "\n",
    "NodeType = TypeVar('NodeType')"
   ]
  },
  {
   "cell_type": "markdown",
   "metadata": {},
   "source": [
    "## Using Addon\n",
    "\n",
    "Use any nodemixin."
   ]
  },
  {
   "cell_type": "code",
   "execution_count": 2,
   "metadata": {},
   "outputs": [],
   "source": [
    "class MyNode1(NodeMixinTyped[NodeType], UniqueNodeAddon):\n",
    "    def __init__(\n",
    "        self,\n",
    "        name: Any = None,\n",
    "        parent: NodeType = None,\n",
    "        children: Tuple[NodeType, ...] = None,\n",
    "        **kwargs,\n",
    "    ):\n",
    "        self.__dict__.update(kwargs)\n",
    "        self.parent = parent\n",
    "        if children:\n",
    "            self.children = children\n",
    "\n",
    "        self.name = name if name is not None else \"depth\" + str(self.depth)\n",
    "\n",
    "class MyNode2(NodeMixin, UniqueNodeAddon):\n",
    "    def __init__(\n",
    "        self,\n",
    "        name: Any = None,\n",
    "        parent: NodeType = None,\n",
    "        children: Tuple[NodeType, ...] = None,\n",
    "        **kwargs,\n",
    "    ):\n",
    "        self.__dict__.update(kwargs)\n",
    "        self.parent = parent\n",
    "        if children:\n",
    "            self.children = children\n",
    "\n",
    "        self.name = name if name is not None else \"depth\" + str(self.depth)\n",
    "\n",
    "\n",
    "root1 = MyNode1('root')\n",
    "root2 = MyNode2('root')"
   ]
  },
  {
   "cell_type": "markdown",
   "metadata": {},
   "source": [
    "## Predefined UniqueNode"
   ]
  },
  {
   "cell_type": "code",
   "execution_count": 3,
   "metadata": {},
   "outputs": [],
   "source": [
    "root = UniqueNode[UniqueNode]()"
   ]
  },
  {
   "cell_type": "code",
   "execution_count": 4,
   "metadata": {},
   "outputs": [],
   "source": [
    "item1 = UniqueNode(parent=root)\n",
    "item2 = UniqueNode(parent=root)"
   ]
  },
  {
   "cell_type": "code",
   "execution_count": 5,
   "metadata": {},
   "outputs": [],
   "source": [
    "root.children[0].activate()"
   ]
  },
  {
   "cell_type": "code",
   "execution_count": 6,
   "metadata": {},
   "outputs": [
    {
     "data": {
      "text/plain": [
       "'depth0'"
      ]
     },
     "execution_count": 6,
     "metadata": {},
     "output_type": "execute_result"
    }
   ],
   "source": [
    "root.name_unique"
   ]
  },
  {
   "cell_type": "code",
   "execution_count": 7,
   "metadata": {},
   "outputs": [
    {
     "data": {
      "text/plain": [
       "('depth1_0', 'depth0/depth1_0')"
      ]
     },
     "execution_count": 7,
     "metadata": {},
     "output_type": "execute_result"
    }
   ],
   "source": [
    "root.children[0].name_indexed, root.children[0].name_unique"
   ]
  },
  {
   "cell_type": "code",
   "execution_count": 8,
   "metadata": {},
   "outputs": [
    {
     "data": {
      "text/plain": [
       "('depth1_1', 'depth0/depth1_1')"
      ]
     },
     "execution_count": 8,
     "metadata": {},
     "output_type": "execute_result"
    }
   ],
   "source": [
    "root.children[1].name_indexed, root.children[1].name_unique"
   ]
  },
  {
   "cell_type": "markdown",
   "metadata": {},
   "source": [
    "## Inherit"
   ]
  },
  {
   "cell_type": "code",
   "execution_count": 9,
   "metadata": {},
   "outputs": [
    {
     "data": {
      "text/plain": [
       "(depth0, depth1, depth1)"
      ]
     },
     "execution_count": 9,
     "metadata": {},
     "output_type": "execute_result"
    }
   ],
   "source": [
    "class MyNode(UniqueNode['MyNode']):\n",
    "    pass\n",
    "\n",
    "root = MyNode()\n",
    "item1 = MyNode(parent=root)\n",
    "item2 = MyNode(parent=root)\n",
    "deeper_item1 = MyNode(parent=item1)\n",
    "root, item1, item2"
   ]
  },
  {
   "cell_type": "code",
   "execution_count": 10,
   "metadata": {},
   "outputs": [
    {
     "data": {
      "text/plain": [
       "(None, None, None, None)"
      ]
     },
     "execution_count": 10,
     "metadata": {},
     "output_type": "execute_result"
    }
   ],
   "source": [
    "root.name_indexed, item1.name_indexed, item2.name_indexed, deeper_item1.name_indexed"
   ]
  },
  {
   "cell_type": "code",
   "execution_count": 11,
   "metadata": {},
   "outputs": [
    {
     "data": {
      "text/plain": [
       "(None, None, None, None)"
      ]
     },
     "execution_count": 11,
     "metadata": {},
     "output_type": "execute_result"
    }
   ],
   "source": [
    "root.name_unique, item1.name_unique, item2.name_unique, deeper_item1.name_unique"
   ]
  },
  {
   "cell_type": "code",
   "execution_count": 12,
   "metadata": {},
   "outputs": [],
   "source": [
    "root.activate()"
   ]
  },
  {
   "cell_type": "code",
   "execution_count": 13,
   "metadata": {},
   "outputs": [
    {
     "data": {
      "text/plain": [
       "('depth0', 'depth1_0', 'depth1_1', 'depth2_0')"
      ]
     },
     "execution_count": 13,
     "metadata": {},
     "output_type": "execute_result"
    }
   ],
   "source": [
    "root.name_indexed, item1.name_indexed, item2.name_indexed, deeper_item1.name_indexed"
   ]
  },
  {
   "cell_type": "code",
   "execution_count": 14,
   "metadata": {},
   "outputs": [
    {
     "data": {
      "text/plain": [
       "('depth0', 'depth0/depth1_0', 'depth0/depth1_1', 'depth0/depth1_0/depth2_0')"
      ]
     },
     "execution_count": 14,
     "metadata": {},
     "output_type": "execute_result"
    }
   ],
   "source": [
    "root.name_unique, item1.name_unique, item2.name_unique, deeper_item1.name_unique"
   ]
  },
  {
   "cell_type": "markdown",
   "metadata": {},
   "source": [
    "## Custom Name\n"
   ]
  },
  {
   "cell_type": "code",
   "execution_count": 15,
   "metadata": {},
   "outputs": [
    {
     "data": {
      "text/plain": [
       "(root, duplicated_name, duplicated_name, unique_among_siblings)"
      ]
     },
     "execution_count": 15,
     "metadata": {},
     "output_type": "execute_result"
    }
   ],
   "source": [
    "class MyNode(UniqueNode['MyNode']):\n",
    "    pass\n",
    "\n",
    "root = MyNode(name='root')\n",
    "item1 = MyNode(name='duplicated_name', parent=root)\n",
    "item2 = MyNode(name='duplicated_name', parent=root)\n",
    "item3 = MyNode(name='unique_among_siblings', parent=root)\n",
    "root, item1, item2, item3"
   ]
  },
  {
   "cell_type": "code",
   "execution_count": 16,
   "metadata": {},
   "outputs": [
    {
     "data": {
      "text/plain": [
       "('root', 'duplicated_name_0', 'duplicated_name_1', 'unique_among_siblings_0')"
      ]
     },
     "execution_count": 16,
     "metadata": {},
     "output_type": "execute_result"
    }
   ],
   "source": [
    "root.activate()\n",
    "\n",
    "root.name_indexed, item1.name_indexed, item2.name_indexed, item3.name_indexed"
   ]
  }
 ],
 "metadata": {
  "kernelspec": {
   "display_name": "anytree-extension",
   "language": "python",
   "name": "python3"
  },
  "language_info": {
   "codemirror_mode": {
    "name": "ipython",
    "version": 3
   },
   "file_extension": ".py",
   "mimetype": "text/x-python",
   "name": "python",
   "nbconvert_exporter": "python",
   "pygments_lexer": "ipython3",
   "version": "3.12.7"
  }
 },
 "nbformat": 4,
 "nbformat_minor": 2
}
