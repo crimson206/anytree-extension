{
 "cells": [
  {
   "cell_type": "markdown",
   "metadata": {},
   "source": [
    "## Unique Node Addon\n",
    "\n",
    "The `Node` of anytree is mainly implemented in `NodeMixin`.\n",
    "`NodeMixin` doesn't have the field `name`, and `name` is just defined in `Node`.\n",
    "\n",
    "If you check the implementation of `Node`,\n",
    "it looks more like an example of the usage of `NodeMixin`.\n",
    "\n",
    "It allows any repeated `name`.\n",
    "While we use the field `name`, we want to mark it with an unique id.\n",
    "\n",
    "Therefore, the `UniqueNodeAddon` is implemented.\n"
   ]
  },
  {
   "cell_type": "markdown",
   "metadata": {},
   "source": [
    "### Inheritance\n",
    "\n",
    "When you want the unique property, add `UniqueNodeAddon` to the base of your `Node` class.\n"
   ]
  },
  {
   "cell_type": "code",
   "execution_count": 2,
   "metadata": {},
   "outputs": [],
   "source": [
    "from crimson.anytree_extension.unique_node import UniqueNodeAddon\n",
    "from crimson.anytree_extension.utils.printer import print_root\n",
    "from anytree import NodeMixin\n",
    "from typing import Tuple\n",
    "\n",
    "# MyUniqueNode is same with crimson.anytree_extension.unique_node.UniqueNode\n",
    "class MyUniqueNode(NodeMixin, UniqueNodeAddon):\n",
    "    def __init__(self, name, parent=None, children=None, **kwargs):\n",
    "        self.__dict__.update(kwargs)\n",
    "        self.name = name\n",
    "        self.parent = parent\n",
    "        if children:\n",
    "            self.children: Tuple[MyUniqueNode] = children\n"
   ]
  },
  {
   "cell_type": "markdown",
   "metadata": {},
   "source": [
    "### Naively-built Tree example\n",
    "\n",
    "We intentionally set all the name to be \"sub\", so that, we don't have any unique id.\n",
    "\n",
    "* `print_root` is not for production"
   ]
  },
  {
   "cell_type": "code",
   "execution_count": 3,
   "metadata": {},
   "outputs": [
    {
     "name": "stdout",
     "output_type": "stream",
     "text": [
      "MyUniqueNode(name='root')\n",
      "MyUniqueNode(name='sub')\n",
      "MyUniqueNode(name='sub')\n",
      "MyUniqueNode(name='sub')\n",
      "MyUniqueNode(name='sub')\n"
     ]
    }
   ],
   "source": [
    "root = MyUniqueNode(name=\"root\")\n",
    "\n",
    "MyUniqueNode(name=\"sub\", parent=root)\n",
    "sub1 = MyUniqueNode(name=\"sub\", parent=root)\n",
    "\n",
    "MyUniqueNode(name=\"sub\", parent=sub1)\n",
    "MyUniqueNode(name=\"sub\", parent=sub1)\n",
    "\n",
    "print_root(root)\n"
   ]
  },
  {
   "cell_type": "markdown",
   "metadata": {},
   "source": [
    "### Activated UniqueNode\n",
    "\n",
    "UniqueNodeAddon add a function `activate` to your node.\n",
    "\n",
    "If you use it, all the node in the tree will get two fields,\n",
    "\n",
    "`UniqueNodeAddon.name_indexed` and `UniqueNodeAddon.name_unique` \n"
   ]
  },
  {
   "cell_type": "code",
   "execution_count": 4,
   "metadata": {},
   "outputs": [],
   "source": [
    "root.children[0].name_indexed"
   ]
  },
  {
   "cell_type": "code",
   "execution_count": 5,
   "metadata": {},
   "outputs": [],
   "source": [
    "root.children[0].name_unique"
   ]
  },
  {
   "cell_type": "code",
   "execution_count": 6,
   "metadata": {},
   "outputs": [
    {
     "name": "stdout",
     "output_type": "stream",
     "text": [
      "MyUniqueNode(name='root', name_indexed='root')\n",
      "MyUniqueNode(name='sub', name_indexed='sub_0')\n",
      "MyUniqueNode(name='sub', name_indexed='sub_1')\n",
      "MyUniqueNode(name='sub', name_indexed='sub_0')\n",
      "MyUniqueNode(name='sub', name_indexed='sub_1')\n"
     ]
    }
   ],
   "source": [
    "root.activate()\n",
    "print_root(root)"
   ]
  },
  {
   "cell_type": "markdown",
   "metadata": {},
   "source": [
    "`name_indexed` is a unique name among siblings, but not unique among all nodes.\n",
    "\n",
    "`name_unique` is just the some of the name_indexed along path, so that it is unique.\n"
   ]
  }
 ],
 "metadata": {
  "kernelspec": {
   "display_name": "anytree-extension",
   "language": "python",
   "name": "python3"
  },
  "language_info": {
   "codemirror_mode": {
    "name": "ipython",
    "version": 3
   },
   "file_extension": ".py",
   "mimetype": "text/x-python",
   "name": "python",
   "nbconvert_exporter": "python",
   "pygments_lexer": "ipython3",
   "version": "3.11.11"
  }
 },
 "nbformat": 4,
 "nbformat_minor": 2
}
