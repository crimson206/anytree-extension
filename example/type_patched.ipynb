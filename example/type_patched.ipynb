{
 "cells": [
  {
   "cell_type": "code",
   "execution_count": 1,
   "metadata": {},
   "outputs": [],
   "source": [
    "from anytree import NodeMixin\n",
    "from crimson.anytree_extension.patch.nodemixin import NodeMixinTyped"
   ]
  },
  {
   "cell_type": "code",
   "execution_count": 2,
   "metadata": {},
   "outputs": [],
   "source": [
    "class NoTypedNode(NodeMixin):\n",
    "\tdef __init__(self, name: str,  parent=None, children=None):\n",
    "\t\tself.name = name\n",
    "\t\tself.parent = parent\n",
    "\t\tif children:\n",
    "\t\t\tself.children = children\n",
    "\n",
    "root = NoTypedNode(name='root')\n",
    "\n",
    "item1 = NoTypedNode('item1', root)\n",
    "\n",
    "item2 = NoTypedNode('item2', root)\n",
    "\n",
    "deeper_item1 = NoTypedNode('deeper_item1', item1)\n"
   ]
  },
  {
   "cell_type": "code",
   "execution_count": 3,
   "metadata": {},
   "outputs": [
    {
     "data": {
      "text/plain": [
       "(<__main__.NoTypedNode at 0x7f36a8d0fef0>,\n",
       " <__main__.NoTypedNode at 0x7f36a8d0f140>)"
      ]
     },
     "execution_count": 3,
     "metadata": {},
     "output_type": "execute_result"
    }
   ],
   "source": [
    "root.children[0].children\n",
    "item1.siblings[0].children\n",
    "item1.parent.children"
   ]
  },
  {
   "cell_type": "markdown",
   "metadata": {},
   "source": [
    "**Before Type Patched**\n",
    "\n",
    "<!--StartFragment--><div style=\"color: #cccccc;background-color: #1f1f1f;font-family: Consolas, 'Courier New', monospace;font-weight: normal;font-size: 14px;line-height: 19px;white-space: pre;\"><div><span style=\"color: #9cdcfe;\">root</span><span style=\"color: #cccccc;\">.</span><span style=\"color: #9cdcfe;\">children</span><span style=\"color: #cccccc;\">[</span><span style=\"color: #b5cea8;\">0</span><span style=\"color: #cccccc;\">].children</span></div><div><span style=\"color: #9cdcfe;\">item1</span><span style=\"color: #cccccc;\">.</span><span style=\"color: #9cdcfe;\">siblings</span><span style=\"color: #cccccc;\">[</span><span style=\"color: #b5cea8;\">0</span><span style=\"color: #cccccc;\">].children</span></div><div><span style=\"color: #9cdcfe;\">item1</span><span style=\"color: #cccccc;\">.</span><span style=\"color: #9cdcfe;\">parent</span><span style=\"color: #cccccc;\">.children</span></div></div><!--EndFragment-->"
   ]
  },
  {
   "cell_type": "code",
   "execution_count": 4,
   "metadata": {},
   "outputs": [],
   "source": [
    "class MyNode(NodeMixinTyped['MyNode']):\n",
    "\tdef __init__(self, name: str,  parent=None, children=None):\n",
    "\t\tself.name = name\n",
    "\t\tself.parent = parent\n",
    "\t\tif children:\n",
    "\t\t\tself.children = children\n",
    "\n",
    "root = MyNode(name='root')\n",
    "\n",
    "item1 = MyNode('item1', root)\n",
    "\n",
    "item2 = MyNode('item2', root)\n",
    "\n",
    "deeper_item1 = MyNode('deeper_item1', item1)\n",
    "\n"
   ]
  },
  {
   "cell_type": "code",
   "execution_count": 5,
   "metadata": {},
   "outputs": [
    {
     "data": {
      "text/plain": [
       "(<__main__.MyNode at 0x7f36a8d5b2c0>, <__main__.MyNode at 0x7f36a8d5bb00>)"
      ]
     },
     "execution_count": 5,
     "metadata": {},
     "output_type": "execute_result"
    }
   ],
   "source": [
    "root.children[0].children\n",
    "item1.siblings[0].children\n",
    "item1.parent.children\n"
   ]
  },
  {
   "cell_type": "markdown",
   "metadata": {},
   "source": [
    "**After Type Patched**\n",
    "\n",
    "<!--StartFragment--><div style=\"color: #cccccc;background-color: #1f1f1f;font-family: Consolas, 'Courier New', monospace;font-weight: normal;font-size: 14px;line-height: 19px;white-space: pre;\"><div><span style=\"color: #9cdcfe;\">root</span><span style=\"color: #cccccc;\">.</span><span style=\"color: #9cdcfe;\">children</span><span style=\"color: #cccccc;\">[</span><span style=\"color: #b5cea8;\">0</span><span style=\"color: #cccccc;\">].</span><span style=\"color: #9cdcfe;\">children</span></div><div><span style=\"color: #9cdcfe;\">item1</span><span style=\"color: #cccccc;\">.</span><span style=\"color: #9cdcfe;\">siblings</span><span style=\"color: #cccccc;\">[</span><span style=\"color: #b5cea8;\">0</span><span style=\"color: #cccccc;\">].</span><span style=\"color: #9cdcfe;\">children</span></div><div><span style=\"color: #9cdcfe;\">item1</span><span style=\"color: #cccccc;\">.</span><span style=\"color: #9cdcfe;\">parent</span><span style=\"color: #cccccc;\">.</span><span style=\"color: #9cdcfe;\">children</span></div><br></div><!--EndFragment-->\n"
   ]
  }
 ],
 "metadata": {
  "kernelspec": {
   "display_name": "anytree-extension",
   "language": "python",
   "name": "python3"
  },
  "language_info": {
   "codemirror_mode": {
    "name": "ipython",
    "version": 3
   },
   "file_extension": ".py",
   "mimetype": "text/x-python",
   "name": "python",
   "nbconvert_exporter": "python",
   "pygments_lexer": "ipython3",
   "version": "3.12.7"
  }
 },
 "nbformat": 4,
 "nbformat_minor": 2
}
